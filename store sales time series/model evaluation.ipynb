{
 "cells": [
  {
   "cell_type": "code",
   "execution_count": 1,
   "id": "14a570aa",
   "metadata": {},
   "outputs": [],
   "source": [
    "import pandas as pd\n",
    "import numpy as np"
   ]
  },
  {
   "cell_type": "code",
   "execution_count": 2,
   "id": "4930b9ee",
   "metadata": {},
   "outputs": [],
   "source": [
    "df = pd.read_csv(\"train_1.csv\")"
   ]
  },
  {
   "cell_type": "code",
   "execution_count": 3,
   "id": "7dd3e287",
   "metadata": {},
   "outputs": [],
   "source": [
    "df.drop('id',axis=1,inplace=True)"
   ]
  },
  {
   "cell_type": "code",
   "execution_count": 4,
   "id": "3981999c",
   "metadata": {},
   "outputs": [],
   "source": [
    "X = df.drop('sales',axis=1)\n",
    "y = df['sales']"
   ]
  },
  {
   "cell_type": "code",
   "execution_count": 5,
   "id": "2579e0b4",
   "metadata": {},
   "outputs": [],
   "source": [
    "from sklearn.model_selection import train_test_split"
   ]
  },
  {
   "cell_type": "code",
   "execution_count": 24,
   "id": "8c90003e",
   "metadata": {},
   "outputs": [],
   "source": [
    "X_train, X_test, y_train, y_test = train_test_split(X,y,test_size=0.3,random_state=101)"
   ]
  },
  {
   "cell_type": "markdown",
   "id": "507e363b",
   "metadata": {},
   "source": [
    "### Scaling"
   ]
  },
  {
   "cell_type": "code",
   "execution_count": 25,
   "id": "2e9a0d55",
   "metadata": {},
   "outputs": [],
   "source": [
    "from sklearn.preprocessing import MinMaxScaler"
   ]
  },
  {
   "cell_type": "code",
   "execution_count": 26,
   "id": "2d98953f",
   "metadata": {},
   "outputs": [],
   "source": [
    "scaler = MinMaxScaler()"
   ]
  },
  {
   "cell_type": "code",
   "execution_count": 27,
   "id": "b38b9481",
   "metadata": {},
   "outputs": [],
   "source": [
    "X_train= scaler.fit_transform(X_train)"
   ]
  },
  {
   "cell_type": "code",
   "execution_count": 28,
   "id": "da8e2744",
   "metadata": {},
   "outputs": [],
   "source": [
    "X_test = scaler.transform(X_test)"
   ]
  },
  {
   "cell_type": "code",
   "execution_count": 29,
   "id": "cfc027b1",
   "metadata": {},
   "outputs": [
    {
     "data": {
      "text/plain": [
       "(2138043, 57)"
      ]
     },
     "execution_count": 29,
     "metadata": {},
     "output_type": "execute_result"
    }
   ],
   "source": [
    "X_train.shape"
   ]
  },
  {
   "cell_type": "code",
   "execution_count": 30,
   "id": "b7052061",
   "metadata": {},
   "outputs": [
    {
     "data": {
      "text/plain": [
       "(916305, 57)"
      ]
     },
     "execution_count": 30,
     "metadata": {},
     "output_type": "execute_result"
    }
   ],
   "source": [
    "X_test.shape"
   ]
  },
  {
   "cell_type": "markdown",
   "id": "dad9590b",
   "metadata": {},
   "source": [
    "## Creating a Model"
   ]
  },
  {
   "cell_type": "code",
   "execution_count": 31,
   "id": "4b66482e",
   "metadata": {},
   "outputs": [],
   "source": [
    "from tensorflow.keras.models import Sequential\n",
    "from tensorflow.keras.layers import Dense, Activation\n",
    "from tensorflow.keras.optimizers import Adam"
   ]
  },
  {
   "cell_type": "code",
   "execution_count": 41,
   "id": "d8c69d0b",
   "metadata": {},
   "outputs": [],
   "source": [
    "model = Sequential()\n",
    "\n",
    "model.add(Dense(57,activation='relu'))\n",
    "model.add(Dense(57,activation='relu'))\n",
    "model.add(Dense(57,activation='relu'))\n",
    "model.add(Dense(1))\n",
    "\n",
    "model.compile(optimizer='adam',loss='mse')"
   ]
  },
  {
   "cell_type": "markdown",
   "id": "994e7793",
   "metadata": {},
   "source": [
    "## Training the Model"
   ]
  },
  {
   "cell_type": "code",
   "execution_count": 42,
   "id": "c125b868",
   "metadata": {},
   "outputs": [
    {
     "name": "stdout",
     "output_type": "stream",
     "text": [
      "Epoch 1/400\n",
      "13037/13037 [==============================] - 38s 3ms/step - loss: 206359.5156 - val_loss: 139653.7969\n",
      "Epoch 2/400\n",
      "13037/13037 [==============================] - 38s 3ms/step - loss: 157692.7656 - val_loss: 131916.3281\n",
      "Epoch 3/400\n",
      "13037/13037 [==============================] - 36s 3ms/step - loss: 152927.8438 - val_loss: 132438.6562\n",
      "Epoch 4/400\n",
      "13037/13037 [==============================] - 35s 3ms/step - loss: 150020.3281 - val_loss: 127612.6719\n",
      "Epoch 5/400\n",
      "13037/13037 [==============================] - 35s 3ms/step - loss: 147702.1562 - val_loss: 124995.8125\n",
      "Epoch 6/400\n",
      "13037/13037 [==============================] - 35s 3ms/step - loss: 145693.0312 - val_loss: 122803.1875\n",
      "Epoch 7/400\n",
      "13037/13037 [==============================] - 35s 3ms/step - loss: 144062.2188 - val_loss: 122739.6484\n",
      "Epoch 8/400\n",
      "13037/13037 [==============================] - 35s 3ms/step - loss: 142475.1562 - val_loss: 120625.9297\n",
      "Epoch 9/400\n",
      "13037/13037 [==============================] - 36s 3ms/step - loss: 140919.3281 - val_loss: 119346.2578\n",
      "Epoch 10/400\n",
      "13037/13037 [==============================] - 36s 3ms/step - loss: 139904.2656 - val_loss: 118726.4688\n",
      "Epoch 11/400\n",
      "13037/13037 [==============================] - 33s 3ms/step - loss: 138643.7344 - val_loss: 117614.1484\n",
      "Epoch 12/400\n",
      "13037/13037 [==============================] - 28s 2ms/step - loss: 137657.3594 - val_loss: 114575.6094\n",
      "Epoch 13/400\n",
      "13037/13037 [==============================] - 29s 2ms/step - loss: 136467.9219 - val_loss: 114878.1094\n",
      "Epoch 14/400\n",
      "13037/13037 [==============================] - 32s 2ms/step - loss: 135598.6719 - val_loss: 112521.5312\n",
      "Epoch 15/400\n",
      "13037/13037 [==============================] - 32s 2ms/step - loss: 134585.7656 - val_loss: 112628.7734\n",
      "Epoch 16/400\n",
      "13037/13037 [==============================] - 29s 2ms/step - loss: 134130.0625 - val_loss: 111211.8203\n",
      "Epoch 17/400\n",
      "13037/13037 [==============================] - 28s 2ms/step - loss: 133451.5312 - val_loss: 110062.5469\n",
      "Epoch 18/400\n",
      "13037/13037 [==============================] - 29s 2ms/step - loss: 132610.3594 - val_loss: 111810.0781\n",
      "Epoch 19/400\n",
      "13037/13037 [==============================] - 29s 2ms/step - loss: 132127.3438 - val_loss: 110739.1016\n",
      "Epoch 20/400\n",
      "13037/13037 [==============================] - 29s 2ms/step - loss: 131701.8750 - val_loss: 108953.8438\n",
      "Epoch 21/400\n",
      "13037/13037 [==============================] - 29s 2ms/step - loss: 131189.2031 - val_loss: 107841.2578\n",
      "Epoch 22/400\n",
      "13037/13037 [==============================] - 29s 2ms/step - loss: 130793.1094 - val_loss: 109572.9062\n",
      "Epoch 23/400\n",
      "13037/13037 [==============================] - 29s 2ms/step - loss: 130424.6562 - val_loss: 110084.2422\n",
      "Epoch 24/400\n",
      "13037/13037 [==============================] - 29s 2ms/step - loss: 130057.3594 - val_loss: 107310.8828\n",
      "Epoch 25/400\n",
      "13037/13037 [==============================] - 29s 2ms/step - loss: 129645.4844 - val_loss: 108363.0000\n",
      "Epoch 26/400\n",
      "13037/13037 [==============================] - 28s 2ms/step - loss: 129387.4844 - val_loss: 107499.1172\n",
      "Epoch 27/400\n",
      "13037/13037 [==============================] - 29s 2ms/step - loss: 129158.5312 - val_loss: 105201.6328\n",
      "Epoch 28/400\n",
      "13037/13037 [==============================] - 29s 2ms/step - loss: 128987.1016 - val_loss: 106121.1016\n",
      "Epoch 29/400\n",
      "13037/13037 [==============================] - 29s 2ms/step - loss: 128382.3906 - val_loss: 106849.4062\n",
      "Epoch 30/400\n",
      "13037/13037 [==============================] - 29s 2ms/step - loss: 128218.0703 - val_loss: 110217.8438\n",
      "Epoch 31/400\n",
      "13037/13037 [==============================] - 29s 2ms/step - loss: 127991.2188 - val_loss: 106470.1172\n",
      "Epoch 32/400\n",
      "13037/13037 [==============================] - 29s 2ms/step - loss: 127637.5547 - val_loss: 105456.9219\n",
      "Epoch 33/400\n",
      "13037/13037 [==============================] - 29s 2ms/step - loss: 127356.7578 - val_loss: 110208.3125\n",
      "Epoch 34/400\n",
      "13037/13037 [==============================] - 29s 2ms/step - loss: 127322.7578 - val_loss: 104947.9688\n",
      "Epoch 35/400\n",
      "13037/13037 [==============================] - 29s 2ms/step - loss: 127061.9766 - val_loss: 105222.4609\n",
      "Epoch 36/400\n",
      "13037/13037 [==============================] - 29s 2ms/step - loss: 127007.1562 - val_loss: 103286.4922\n",
      "Epoch 37/400\n",
      "13037/13037 [==============================] - 29s 2ms/step - loss: 126610.7344 - val_loss: 104995.8594\n",
      "Epoch 38/400\n",
      "13037/13037 [==============================] - 29s 2ms/step - loss: 126288.2109 - val_loss: 103687.5234\n",
      "Epoch 39/400\n",
      "13037/13037 [==============================] - 29s 2ms/step - loss: 126300.5312 - val_loss: 103655.6719\n",
      "Epoch 40/400\n",
      "13037/13037 [==============================] - 29s 2ms/step - loss: 126031.7109 - val_loss: 106332.5156\n",
      "Epoch 41/400\n",
      "13037/13037 [==============================] - 29s 2ms/step - loss: 125999.7422 - val_loss: 102995.8984\n",
      "Epoch 42/400\n",
      "13037/13037 [==============================] - 29s 2ms/step - loss: 125696.8828 - val_loss: 103081.2969\n",
      "Epoch 43/400\n",
      "13037/13037 [==============================] - 29s 2ms/step - loss: 125464.9531 - val_loss: 103077.9062\n",
      "Epoch 44/400\n",
      "13037/13037 [==============================] - 29s 2ms/step - loss: 125109.9062 - val_loss: 105221.9141\n",
      "Epoch 45/400\n",
      "13037/13037 [==============================] - 29s 2ms/step - loss: 125108.4453 - val_loss: 102306.6250\n",
      "Epoch 46/400\n",
      "13037/13037 [==============================] - 29s 2ms/step - loss: 124919.6641 - val_loss: 103570.3203\n",
      "Epoch 47/400\n",
      "13037/13037 [==============================] - 29s 2ms/step - loss: 124708.0000 - val_loss: 101813.3203\n",
      "Epoch 48/400\n",
      "13037/13037 [==============================] - 29s 2ms/step - loss: 124659.2109 - val_loss: 102335.3672\n",
      "Epoch 49/400\n",
      "13037/13037 [==============================] - 29s 2ms/step - loss: 124429.3672 - val_loss: 103517.6953\n",
      "Epoch 50/400\n",
      "13037/13037 [==============================] - 29s 2ms/step - loss: 124334.0547 - val_loss: 105324.7188\n",
      "Epoch 51/400\n",
      "13037/13037 [==============================] - 29s 2ms/step - loss: 124121.1641 - val_loss: 106556.5703\n",
      "Epoch 52/400\n",
      "13037/13037 [==============================] - 30s 2ms/step - loss: 124043.4531 - val_loss: 101360.7031\n",
      "Epoch 53/400\n",
      "13037/13037 [==============================] - 28s 2ms/step - loss: 123473.3203 - val_loss: 100889.9453\n",
      "Epoch 54/400\n",
      "13037/13037 [==============================] - 29s 2ms/step - loss: 123567.6562 - val_loss: 102994.3281\n",
      "Epoch 55/400\n",
      "13037/13037 [==============================] - 29s 2ms/step - loss: 123452.1250 - val_loss: 100969.4453\n",
      "Epoch 56/400\n",
      "13037/13037 [==============================] - 29s 2ms/step - loss: 123083.7891 - val_loss: 101129.8594\n",
      "Epoch 57/400\n",
      "13037/13037 [==============================] - 29s 2ms/step - loss: 123101.1250 - val_loss: 100546.0625\n",
      "Epoch 58/400\n",
      "13037/13037 [==============================] - 28s 2ms/step - loss: 123073.8672 - val_loss: 100391.2188\n",
      "Epoch 59/400\n",
      "13037/13037 [==============================] - 29s 2ms/step - loss: 122688.9766 - val_loss: 101747.4531\n",
      "Epoch 60/400\n",
      "13037/13037 [==============================] - 29s 2ms/step - loss: 122592.7422 - val_loss: 99477.0547\n",
      "Epoch 61/400\n",
      "13037/13037 [==============================] - 29s 2ms/step - loss: 122507.3906 - val_loss: 102520.1875\n",
      "Epoch 62/400\n",
      "13037/13037 [==============================] - 29s 2ms/step - loss: 122206.7812 - val_loss: 101830.7344\n",
      "Epoch 63/400\n",
      "13037/13037 [==============================] - 29s 2ms/step - loss: 122121.7188 - val_loss: 101074.0859\n",
      "Epoch 64/400\n",
      "13037/13037 [==============================] - 29s 2ms/step - loss: 121938.3125 - val_loss: 99588.2266\n",
      "Epoch 65/400\n",
      "13037/13037 [==============================] - 29s 2ms/step - loss: 121845.3047 - val_loss: 101295.3750\n",
      "Epoch 66/400\n",
      "13037/13037 [==============================] - 29s 2ms/step - loss: 121980.7422 - val_loss: 100590.5000\n",
      "Epoch 67/400\n",
      "13037/13037 [==============================] - 29s 2ms/step - loss: 121681.4844 - val_loss: 99586.4609\n",
      "Epoch 68/400\n",
      "13037/13037 [==============================] - 29s 2ms/step - loss: 121698.6562 - val_loss: 101410.8906\n",
      "Epoch 69/400\n",
      "13037/13037 [==============================] - 28s 2ms/step - loss: 121347.4766 - val_loss: 99945.7422\n",
      "Epoch 70/400\n",
      "13037/13037 [==============================] - 29s 2ms/step - loss: 121137.1953 - val_loss: 99671.7812\n",
      "Epoch 71/400\n"
     ]
    },
    {
     "name": "stdout",
     "output_type": "stream",
     "text": [
      "13037/13037 [==============================] - 28s 2ms/step - loss: 121241.0156 - val_loss: 100553.4844\n",
      "Epoch 72/400\n",
      "13037/13037 [==============================] - 29s 2ms/step - loss: 120729.2422 - val_loss: 99627.7891\n",
      "Epoch 73/400\n",
      "13037/13037 [==============================] - 28s 2ms/step - loss: 120998.6328 - val_loss: 98925.2578\n",
      "Epoch 74/400\n",
      "13037/13037 [==============================] - 29s 2ms/step - loss: 120658.1562 - val_loss: 101919.6094\n",
      "Epoch 75/400\n",
      "13037/13037 [==============================] - 29s 2ms/step - loss: 120668.0469 - val_loss: 100079.4062\n",
      "Epoch 76/400\n",
      "13037/13037 [==============================] - 29s 2ms/step - loss: 120417.0078 - val_loss: 98425.6641\n",
      "Epoch 77/400\n",
      "13037/13037 [==============================] - 29s 2ms/step - loss: 120077.3828 - val_loss: 104300.8438\n",
      "Epoch 78/400\n",
      "13037/13037 [==============================] - 28s 2ms/step - loss: 119957.8984 - val_loss: 98525.2969\n",
      "Epoch 79/400\n",
      "13037/13037 [==============================] - 29s 2ms/step - loss: 120151.6250 - val_loss: 97338.5391\n",
      "Epoch 80/400\n",
      "13037/13037 [==============================] - 28s 2ms/step - loss: 119716.4453 - val_loss: 99673.9688\n",
      "Epoch 81/400\n",
      "13037/13037 [==============================] - 29s 2ms/step - loss: 119917.8984 - val_loss: 99223.0312\n",
      "Epoch 82/400\n",
      "13037/13037 [==============================] - 28s 2ms/step - loss: 119465.3359 - val_loss: 98495.7344\n",
      "Epoch 83/400\n",
      "13037/13037 [==============================] - 29s 2ms/step - loss: 119486.5234 - val_loss: 97474.6406\n",
      "Epoch 84/400\n",
      "13037/13037 [==============================] - 29s 2ms/step - loss: 119304.9219 - val_loss: 101398.6094\n",
      "Epoch 85/400\n",
      "13037/13037 [==============================] - 28s 2ms/step - loss: 119058.1328 - val_loss: 98271.6016\n",
      "Epoch 86/400\n",
      "13037/13037 [==============================] - 29s 2ms/step - loss: 119114.0000 - val_loss: 96505.3516\n",
      "Epoch 87/400\n",
      "13037/13037 [==============================] - 28s 2ms/step - loss: 118895.2656 - val_loss: 97437.0547\n",
      "Epoch 88/400\n",
      "13037/13037 [==============================] - 29s 2ms/step - loss: 118667.4922 - val_loss: 98716.3047\n",
      "Epoch 89/400\n",
      "13037/13037 [==============================] - 28s 2ms/step - loss: 118666.1016 - val_loss: 96940.1016\n",
      "Epoch 90/400\n",
      "13037/13037 [==============================] - 28s 2ms/step - loss: 118446.1484 - val_loss: 96750.7500\n",
      "Epoch 91/400\n",
      "13037/13037 [==============================] - 29s 2ms/step - loss: 118481.6875 - val_loss: 97749.9375\n",
      "Epoch 92/400\n",
      "13037/13037 [==============================] - 28s 2ms/step - loss: 118205.2266 - val_loss: 98392.3672\n",
      "Epoch 93/400\n",
      "13037/13037 [==============================] - 29s 2ms/step - loss: 117899.5312 - val_loss: 98148.4766\n",
      "Epoch 94/400\n",
      "13037/13037 [==============================] - 28s 2ms/step - loss: 117879.5938 - val_loss: 96996.5781\n",
      "Epoch 95/400\n",
      "13037/13037 [==============================] - 29s 2ms/step - loss: 117897.4609 - val_loss: 101655.9375\n",
      "Epoch 96/400\n",
      "13037/13037 [==============================] - 28s 2ms/step - loss: 117552.3984 - val_loss: 99088.6719\n",
      "Epoch 97/400\n",
      "13037/13037 [==============================] - 28s 2ms/step - loss: 117475.2656 - val_loss: 110904.3359\n",
      "Epoch 98/400\n",
      "13037/13037 [==============================] - 29s 2ms/step - loss: 117464.0781 - val_loss: 97756.3047\n",
      "Epoch 99/400\n",
      "13037/13037 [==============================] - 28s 2ms/step - loss: 117366.6797 - val_loss: 97136.1406\n",
      "Epoch 100/400\n",
      "13037/13037 [==============================] - 29s 2ms/step - loss: 117486.9141 - val_loss: 96697.0391\n",
      "Epoch 101/400\n",
      "13037/13037 [==============================] - 28s 2ms/step - loss: 117079.1719 - val_loss: 96731.1484\n",
      "Epoch 102/400\n",
      "13037/13037 [==============================] - 29s 2ms/step - loss: 117021.7812 - val_loss: 96157.0234\n",
      "Epoch 103/400\n",
      "13037/13037 [==============================] - 28s 2ms/step - loss: 116979.7500 - val_loss: 96245.4609\n",
      "Epoch 104/400\n",
      "13037/13037 [==============================] - 28s 2ms/step - loss: 116787.1875 - val_loss: 99324.1641\n",
      "Epoch 105/400\n",
      "13037/13037 [==============================] - 29s 2ms/step - loss: 116708.5859 - val_loss: 96998.5547\n",
      "Epoch 106/400\n",
      "13037/13037 [==============================] - 28s 2ms/step - loss: 116391.0625 - val_loss: 96099.1484\n",
      "Epoch 107/400\n",
      "13037/13037 [==============================] - 29s 2ms/step - loss: 116306.1016 - val_loss: 93956.0000\n",
      "Epoch 108/400\n",
      "13037/13037 [==============================] - 28s 2ms/step - loss: 116227.4609 - val_loss: 95026.5859\n",
      "Epoch 109/400\n",
      "13037/13037 [==============================] - 29s 2ms/step - loss: 115946.1875 - val_loss: 100487.8203\n",
      "Epoch 110/400\n",
      "13037/13037 [==============================] - 28s 2ms/step - loss: 115826.6797 - val_loss: 93741.7578\n",
      "Epoch 111/400\n",
      "13037/13037 [==============================] - 29s 2ms/step - loss: 115644.9062 - val_loss: 97179.5781\n",
      "Epoch 112/400\n",
      "13037/13037 [==============================] - 28s 2ms/step - loss: 115585.5938 - val_loss: 93205.0625\n",
      "Epoch 113/400\n",
      "13037/13037 [==============================] - 28s 2ms/step - loss: 115343.9453 - val_loss: 93313.4609\n",
      "Epoch 114/400\n",
      "13037/13037 [==============================] - 29s 2ms/step - loss: 115089.6875 - val_loss: 92595.8359\n",
      "Epoch 115/400\n",
      "13037/13037 [==============================] - 29s 2ms/step - loss: 114962.7344 - val_loss: 95846.7891\n",
      "Epoch 116/400\n",
      "13037/13037 [==============================] - 29s 2ms/step - loss: 114938.6094 - val_loss: 95470.4688\n",
      "Epoch 117/400\n",
      "13037/13037 [==============================] - 28s 2ms/step - loss: 114762.2578 - val_loss: 95165.7344\n",
      "Epoch 118/400\n",
      "13037/13037 [==============================] - 29s 2ms/step - loss: 114525.9531 - val_loss: 93391.0859\n",
      "Epoch 119/400\n",
      "13037/13037 [==============================] - 28s 2ms/step - loss: 114356.7812 - val_loss: 94148.0156\n",
      "Epoch 120/400\n",
      "13037/13037 [==============================] - 29s 2ms/step - loss: 114304.5312 - val_loss: 92017.4297\n",
      "Epoch 121/400\n",
      "13037/13037 [==============================] - 29s 2ms/step - loss: 114169.2812 - val_loss: 92312.8203\n",
      "Epoch 122/400\n",
      "13037/13037 [==============================] - 28s 2ms/step - loss: 113884.2188 - val_loss: 94808.6641\n",
      "Epoch 123/400\n",
      "13037/13037 [==============================] - 29s 2ms/step - loss: 113680.1953 - val_loss: 92224.6797\n",
      "Epoch 124/400\n",
      "13037/13037 [==============================] - 29s 2ms/step - loss: 113512.8516 - val_loss: 96648.6406\n",
      "Epoch 125/400\n",
      "13037/13037 [==============================] - 29s 2ms/step - loss: 113482.1562 - val_loss: 91757.1875\n",
      "Epoch 126/400\n",
      "13037/13037 [==============================] - 29s 2ms/step - loss: 113309.1719 - val_loss: 92112.6875\n",
      "Epoch 127/400\n",
      "13037/13037 [==============================] - 28s 2ms/step - loss: 113337.9844 - val_loss: 94062.9219\n",
      "Epoch 128/400\n",
      "13037/13037 [==============================] - 29s 2ms/step - loss: 112852.2969 - val_loss: 94019.4531\n",
      "Epoch 129/400\n",
      "13037/13037 [==============================] - 29s 2ms/step - loss: 112781.7031 - val_loss: 92631.4375\n",
      "Epoch 130/400\n",
      "13037/13037 [==============================] - 29s 2ms/step - loss: 112603.2422 - val_loss: 91211.4062\n",
      "Epoch 131/400\n",
      "13037/13037 [==============================] - 28s 2ms/step - loss: 112525.6953 - val_loss: 91071.2734\n",
      "Epoch 132/400\n",
      "13037/13037 [==============================] - 29s 2ms/step - loss: 112469.1875 - val_loss: 94625.7344\n",
      "Epoch 133/400\n",
      "13037/13037 [==============================] - 28s 2ms/step - loss: 112299.6172 - val_loss: 91972.5000\n",
      "Epoch 134/400\n",
      "13037/13037 [==============================] - 29s 2ms/step - loss: 112171.4453 - val_loss: 91919.2969\n",
      "Epoch 135/400\n",
      "13037/13037 [==============================] - 28s 2ms/step - loss: 112145.3125 - val_loss: 90854.1562\n",
      "Epoch 136/400\n",
      "13037/13037 [==============================] - 28s 2ms/step - loss: 112090.1250 - val_loss: 91138.2891\n",
      "Epoch 137/400\n",
      "13037/13037 [==============================] - 29s 2ms/step - loss: 112007.6016 - val_loss: 93010.4453\n",
      "Epoch 138/400\n",
      "13037/13037 [==============================] - 28s 2ms/step - loss: 111906.8516 - val_loss: 91598.9531\n",
      "Epoch 139/400\n",
      "13037/13037 [==============================] - 29s 2ms/step - loss: 111853.6875 - val_loss: 96189.8984\n",
      "Epoch 140/400\n",
      "13037/13037 [==============================] - 28s 2ms/step - loss: 111799.5938 - val_loss: 89847.4688\n",
      "Epoch 141/400\n"
     ]
    },
    {
     "name": "stdout",
     "output_type": "stream",
     "text": [
      "13037/13037 [==============================] - 28s 2ms/step - loss: 111500.3672 - val_loss: 91363.1797\n",
      "Epoch 142/400\n",
      "13037/13037 [==============================] - 28s 2ms/step - loss: 111528.3047 - val_loss: 90509.4297\n",
      "Epoch 143/400\n",
      "13037/13037 [==============================] - 28s 2ms/step - loss: 111474.2969 - val_loss: 91036.8906\n",
      "Epoch 144/400\n",
      "13037/13037 [==============================] - 29s 2ms/step - loss: 111092.8750 - val_loss: 91427.1953\n",
      "Epoch 145/400\n",
      "13037/13037 [==============================] - 28s 2ms/step - loss: 110845.2188 - val_loss: 89774.8750\n",
      "Epoch 146/400\n",
      "13037/13037 [==============================] - 29s 2ms/step - loss: 110993.4219 - val_loss: 89072.3359\n",
      "Epoch 147/400\n",
      "13037/13037 [==============================] - 28s 2ms/step - loss: 110894.5312 - val_loss: 90733.1094\n",
      "Epoch 148/400\n",
      "13037/13037 [==============================] - 29s 2ms/step - loss: 110965.9297 - val_loss: 90154.2500\n",
      "Epoch 149/400\n",
      "13037/13037 [==============================] - 28s 2ms/step - loss: 110723.2266 - val_loss: 91158.6719\n",
      "Epoch 150/400\n",
      "13037/13037 [==============================] - 28s 2ms/step - loss: 110594.3438 - val_loss: 90607.5547\n",
      "Epoch 151/400\n",
      "13037/13037 [==============================] - 29s 2ms/step - loss: 110568.9531 - val_loss: 89442.0625\n",
      "Epoch 152/400\n",
      "13037/13037 [==============================] - 28s 2ms/step - loss: 110590.5078 - val_loss: 90603.8203\n",
      "Epoch 153/400\n",
      "13037/13037 [==============================] - 29s 2ms/step - loss: 110486.3828 - val_loss: 88493.1406\n",
      "Epoch 154/400\n",
      "13037/13037 [==============================] - 28s 2ms/step - loss: 110151.0938 - val_loss: 88483.3516\n",
      "Epoch 155/400\n",
      "13037/13037 [==============================] - 29s 2ms/step - loss: 110275.1641 - val_loss: 89831.6328\n",
      "Epoch 156/400\n",
      "13037/13037 [==============================] - 28s 2ms/step - loss: 110224.2031 - val_loss: 94549.8203\n",
      "Epoch 157/400\n",
      "13037/13037 [==============================] - 28s 2ms/step - loss: 109940.1797 - val_loss: 89059.3750\n",
      "Epoch 158/400\n",
      "13037/13037 [==============================] - 29s 2ms/step - loss: 110342.0156 - val_loss: 92002.7891\n",
      "Epoch 159/400\n",
      "13037/13037 [==============================] - 28s 2ms/step - loss: 110066.0703 - val_loss: 90635.4219\n",
      "Epoch 160/400\n",
      "13037/13037 [==============================] - 28s 2ms/step - loss: 110273.5078 - val_loss: 88512.2656\n",
      "Epoch 161/400\n",
      "13037/13037 [==============================] - 28s 2ms/step - loss: 109837.4141 - val_loss: 88348.5625\n",
      "Epoch 162/400\n",
      "13037/13037 [==============================] - 29s 2ms/step - loss: 109831.0859 - val_loss: 89441.1016\n",
      "Epoch 163/400\n",
      "13037/13037 [==============================] - 28s 2ms/step - loss: 109868.5547 - val_loss: 88654.1953\n",
      "Epoch 164/400\n",
      "13037/13037 [==============================] - 29s 2ms/step - loss: 109596.9688 - val_loss: 91281.3438\n",
      "Epoch 165/400\n",
      "13037/13037 [==============================] - 29s 2ms/step - loss: 109607.1875 - val_loss: 92116.2188\n",
      "Epoch 166/400\n",
      "13037/13037 [==============================] - 28s 2ms/step - loss: 109659.0547 - val_loss: 91762.7344\n",
      "Epoch 167/400\n",
      " 9862/13037 [=====================>........] - ETA: 6s - loss: 103236.7500"
     ]
    },
    {
     "ename": "KeyboardInterrupt",
     "evalue": "",
     "output_type": "error",
     "traceback": [
      "\u001b[1;31m---------------------------------------------------------------------------\u001b[0m",
      "\u001b[1;31mKeyboardInterrupt\u001b[0m                         Traceback (most recent call last)",
      "\u001b[1;32m~\\AppData\\Local\\Temp\\ipykernel_25232\\1657253196.py\u001b[0m in \u001b[0;36m<module>\u001b[1;34m\u001b[0m\n\u001b[1;32m----> 1\u001b[1;33m model.fit(x=X_train,y=y_train.values,\n\u001b[0m\u001b[0;32m      2\u001b[0m           \u001b[0mvalidation_data\u001b[0m\u001b[1;33m=\u001b[0m\u001b[1;33m(\u001b[0m\u001b[0mX_test\u001b[0m\u001b[1;33m,\u001b[0m\u001b[0my_test\u001b[0m\u001b[1;33m.\u001b[0m\u001b[0mvalues\u001b[0m\u001b[1;33m)\u001b[0m\u001b[1;33m,\u001b[0m\u001b[1;33m\u001b[0m\u001b[1;33m\u001b[0m\u001b[0m\n\u001b[0;32m      3\u001b[0m           batch_size=164,epochs=400)\n",
      "\u001b[1;32mC:\\ProgramData\\Anaconda3\\lib\\site-packages\\keras\\src\\utils\\traceback_utils.py\u001b[0m in \u001b[0;36merror_handler\u001b[1;34m(*args, **kwargs)\u001b[0m\n\u001b[0;32m     63\u001b[0m         \u001b[0mfiltered_tb\u001b[0m \u001b[1;33m=\u001b[0m \u001b[1;32mNone\u001b[0m\u001b[1;33m\u001b[0m\u001b[1;33m\u001b[0m\u001b[0m\n\u001b[0;32m     64\u001b[0m         \u001b[1;32mtry\u001b[0m\u001b[1;33m:\u001b[0m\u001b[1;33m\u001b[0m\u001b[1;33m\u001b[0m\u001b[0m\n\u001b[1;32m---> 65\u001b[1;33m             \u001b[1;32mreturn\u001b[0m \u001b[0mfn\u001b[0m\u001b[1;33m(\u001b[0m\u001b[1;33m*\u001b[0m\u001b[0margs\u001b[0m\u001b[1;33m,\u001b[0m \u001b[1;33m**\u001b[0m\u001b[0mkwargs\u001b[0m\u001b[1;33m)\u001b[0m\u001b[1;33m\u001b[0m\u001b[1;33m\u001b[0m\u001b[0m\n\u001b[0m\u001b[0;32m     66\u001b[0m         \u001b[1;32mexcept\u001b[0m \u001b[0mException\u001b[0m \u001b[1;32mas\u001b[0m \u001b[0me\u001b[0m\u001b[1;33m:\u001b[0m\u001b[1;33m\u001b[0m\u001b[1;33m\u001b[0m\u001b[0m\n\u001b[0;32m     67\u001b[0m             \u001b[0mfiltered_tb\u001b[0m \u001b[1;33m=\u001b[0m \u001b[0m_process_traceback_frames\u001b[0m\u001b[1;33m(\u001b[0m\u001b[0me\u001b[0m\u001b[1;33m.\u001b[0m\u001b[0m__traceback__\u001b[0m\u001b[1;33m)\u001b[0m\u001b[1;33m\u001b[0m\u001b[1;33m\u001b[0m\u001b[0m\n",
      "\u001b[1;32mC:\\ProgramData\\Anaconda3\\lib\\site-packages\\keras\\src\\engine\\training.py\u001b[0m in \u001b[0;36mfit\u001b[1;34m(self, x, y, batch_size, epochs, verbose, callbacks, validation_split, validation_data, shuffle, class_weight, sample_weight, initial_epoch, steps_per_epoch, validation_steps, validation_batch_size, validation_freq, max_queue_size, workers, use_multiprocessing)\u001b[0m\n\u001b[0;32m   1781\u001b[0m                         ):\n\u001b[0;32m   1782\u001b[0m                             \u001b[0mcallbacks\u001b[0m\u001b[1;33m.\u001b[0m\u001b[0mon_train_batch_begin\u001b[0m\u001b[1;33m(\u001b[0m\u001b[0mstep\u001b[0m\u001b[1;33m)\u001b[0m\u001b[1;33m\u001b[0m\u001b[1;33m\u001b[0m\u001b[0m\n\u001b[1;32m-> 1783\u001b[1;33m                             \u001b[0mtmp_logs\u001b[0m \u001b[1;33m=\u001b[0m \u001b[0mself\u001b[0m\u001b[1;33m.\u001b[0m\u001b[0mtrain_function\u001b[0m\u001b[1;33m(\u001b[0m\u001b[0miterator\u001b[0m\u001b[1;33m)\u001b[0m\u001b[1;33m\u001b[0m\u001b[1;33m\u001b[0m\u001b[0m\n\u001b[0m\u001b[0;32m   1784\u001b[0m                             \u001b[1;32mif\u001b[0m \u001b[0mdata_handler\u001b[0m\u001b[1;33m.\u001b[0m\u001b[0mshould_sync\u001b[0m\u001b[1;33m:\u001b[0m\u001b[1;33m\u001b[0m\u001b[1;33m\u001b[0m\u001b[0m\n\u001b[0;32m   1785\u001b[0m                                 \u001b[0mcontext\u001b[0m\u001b[1;33m.\u001b[0m\u001b[0masync_wait\u001b[0m\u001b[1;33m(\u001b[0m\u001b[1;33m)\u001b[0m\u001b[1;33m\u001b[0m\u001b[1;33m\u001b[0m\u001b[0m\n",
      "\u001b[1;32mC:\\ProgramData\\Anaconda3\\lib\\site-packages\\tensorflow\\python\\util\\traceback_utils.py\u001b[0m in \u001b[0;36merror_handler\u001b[1;34m(*args, **kwargs)\u001b[0m\n\u001b[0;32m    148\u001b[0m     \u001b[0mfiltered_tb\u001b[0m \u001b[1;33m=\u001b[0m \u001b[1;32mNone\u001b[0m\u001b[1;33m\u001b[0m\u001b[1;33m\u001b[0m\u001b[0m\n\u001b[0;32m    149\u001b[0m     \u001b[1;32mtry\u001b[0m\u001b[1;33m:\u001b[0m\u001b[1;33m\u001b[0m\u001b[1;33m\u001b[0m\u001b[0m\n\u001b[1;32m--> 150\u001b[1;33m       \u001b[1;32mreturn\u001b[0m \u001b[0mfn\u001b[0m\u001b[1;33m(\u001b[0m\u001b[1;33m*\u001b[0m\u001b[0margs\u001b[0m\u001b[1;33m,\u001b[0m \u001b[1;33m**\u001b[0m\u001b[0mkwargs\u001b[0m\u001b[1;33m)\u001b[0m\u001b[1;33m\u001b[0m\u001b[1;33m\u001b[0m\u001b[0m\n\u001b[0m\u001b[0;32m    151\u001b[0m     \u001b[1;32mexcept\u001b[0m \u001b[0mException\u001b[0m \u001b[1;32mas\u001b[0m \u001b[0me\u001b[0m\u001b[1;33m:\u001b[0m\u001b[1;33m\u001b[0m\u001b[1;33m\u001b[0m\u001b[0m\n\u001b[0;32m    152\u001b[0m       \u001b[0mfiltered_tb\u001b[0m \u001b[1;33m=\u001b[0m \u001b[0m_process_traceback_frames\u001b[0m\u001b[1;33m(\u001b[0m\u001b[0me\u001b[0m\u001b[1;33m.\u001b[0m\u001b[0m__traceback__\u001b[0m\u001b[1;33m)\u001b[0m\u001b[1;33m\u001b[0m\u001b[1;33m\u001b[0m\u001b[0m\n",
      "\u001b[1;32mC:\\ProgramData\\Anaconda3\\lib\\site-packages\\tensorflow\\python\\eager\\polymorphic_function\\polymorphic_function.py\u001b[0m in \u001b[0;36m__call__\u001b[1;34m(self, *args, **kwds)\u001b[0m\n\u001b[0;32m    829\u001b[0m \u001b[1;33m\u001b[0m\u001b[0m\n\u001b[0;32m    830\u001b[0m       \u001b[1;32mwith\u001b[0m \u001b[0mOptionalXlaContext\u001b[0m\u001b[1;33m(\u001b[0m\u001b[0mself\u001b[0m\u001b[1;33m.\u001b[0m\u001b[0m_jit_compile\u001b[0m\u001b[1;33m)\u001b[0m\u001b[1;33m:\u001b[0m\u001b[1;33m\u001b[0m\u001b[1;33m\u001b[0m\u001b[0m\n\u001b[1;32m--> 831\u001b[1;33m         \u001b[0mresult\u001b[0m \u001b[1;33m=\u001b[0m \u001b[0mself\u001b[0m\u001b[1;33m.\u001b[0m\u001b[0m_call\u001b[0m\u001b[1;33m(\u001b[0m\u001b[1;33m*\u001b[0m\u001b[0margs\u001b[0m\u001b[1;33m,\u001b[0m \u001b[1;33m**\u001b[0m\u001b[0mkwds\u001b[0m\u001b[1;33m)\u001b[0m\u001b[1;33m\u001b[0m\u001b[1;33m\u001b[0m\u001b[0m\n\u001b[0m\u001b[0;32m    832\u001b[0m \u001b[1;33m\u001b[0m\u001b[0m\n\u001b[0;32m    833\u001b[0m       \u001b[0mnew_tracing_count\u001b[0m \u001b[1;33m=\u001b[0m \u001b[0mself\u001b[0m\u001b[1;33m.\u001b[0m\u001b[0mexperimental_get_tracing_count\u001b[0m\u001b[1;33m(\u001b[0m\u001b[1;33m)\u001b[0m\u001b[1;33m\u001b[0m\u001b[1;33m\u001b[0m\u001b[0m\n",
      "\u001b[1;32mC:\\ProgramData\\Anaconda3\\lib\\site-packages\\tensorflow\\python\\eager\\polymorphic_function\\polymorphic_function.py\u001b[0m in \u001b[0;36m_call\u001b[1;34m(self, *args, **kwds)\u001b[0m\n\u001b[0;32m    865\u001b[0m       \u001b[1;31m# In this case we have created variables on the first call, so we run the\u001b[0m\u001b[1;33m\u001b[0m\u001b[1;33m\u001b[0m\u001b[0m\n\u001b[0;32m    866\u001b[0m       \u001b[1;31m# defunned version which is guaranteed to never create variables.\u001b[0m\u001b[1;33m\u001b[0m\u001b[1;33m\u001b[0m\u001b[0m\n\u001b[1;32m--> 867\u001b[1;33m       return tracing_compilation.call_function(\n\u001b[0m\u001b[0;32m    868\u001b[0m           \u001b[0margs\u001b[0m\u001b[1;33m,\u001b[0m \u001b[0mkwds\u001b[0m\u001b[1;33m,\u001b[0m \u001b[0mself\u001b[0m\u001b[1;33m.\u001b[0m\u001b[0m_no_variable_creation_config\u001b[0m\u001b[1;33m\u001b[0m\u001b[1;33m\u001b[0m\u001b[0m\n\u001b[0;32m    869\u001b[0m       )\n",
      "\u001b[1;32mC:\\ProgramData\\Anaconda3\\lib\\site-packages\\tensorflow\\python\\eager\\polymorphic_function\\tracing_compilation.py\u001b[0m in \u001b[0;36mcall_function\u001b[1;34m(args, kwargs, tracing_options)\u001b[0m\n\u001b[0;32m    137\u001b[0m   \u001b[0mbound_args\u001b[0m \u001b[1;33m=\u001b[0m \u001b[0mfunction\u001b[0m\u001b[1;33m.\u001b[0m\u001b[0mfunction_type\u001b[0m\u001b[1;33m.\u001b[0m\u001b[0mbind\u001b[0m\u001b[1;33m(\u001b[0m\u001b[1;33m*\u001b[0m\u001b[0margs\u001b[0m\u001b[1;33m,\u001b[0m \u001b[1;33m**\u001b[0m\u001b[0mkwargs\u001b[0m\u001b[1;33m)\u001b[0m\u001b[1;33m\u001b[0m\u001b[1;33m\u001b[0m\u001b[0m\n\u001b[0;32m    138\u001b[0m   \u001b[0mflat_inputs\u001b[0m \u001b[1;33m=\u001b[0m \u001b[0mfunction\u001b[0m\u001b[1;33m.\u001b[0m\u001b[0mfunction_type\u001b[0m\u001b[1;33m.\u001b[0m\u001b[0munpack_inputs\u001b[0m\u001b[1;33m(\u001b[0m\u001b[0mbound_args\u001b[0m\u001b[1;33m)\u001b[0m\u001b[1;33m\u001b[0m\u001b[1;33m\u001b[0m\u001b[0m\n\u001b[1;32m--> 139\u001b[1;33m   return function._call_flat(  # pylint: disable=protected-access\n\u001b[0m\u001b[0;32m    140\u001b[0m       \u001b[0mflat_inputs\u001b[0m\u001b[1;33m,\u001b[0m \u001b[0mcaptured_inputs\u001b[0m\u001b[1;33m=\u001b[0m\u001b[0mfunction\u001b[0m\u001b[1;33m.\u001b[0m\u001b[0mcaptured_inputs\u001b[0m\u001b[1;33m\u001b[0m\u001b[1;33m\u001b[0m\u001b[0m\n\u001b[0;32m    141\u001b[0m   )\n",
      "\u001b[1;32mC:\\ProgramData\\Anaconda3\\lib\\site-packages\\tensorflow\\python\\eager\\polymorphic_function\\concrete_function.py\u001b[0m in \u001b[0;36m_call_flat\u001b[1;34m(self, tensor_inputs, captured_inputs)\u001b[0m\n\u001b[0;32m   1262\u001b[0m         and executing_eagerly):\n\u001b[0;32m   1263\u001b[0m       \u001b[1;31m# No tape is watching; skip to running the function.\u001b[0m\u001b[1;33m\u001b[0m\u001b[1;33m\u001b[0m\u001b[0m\n\u001b[1;32m-> 1264\u001b[1;33m       \u001b[1;32mreturn\u001b[0m \u001b[0mself\u001b[0m\u001b[1;33m.\u001b[0m\u001b[0m_inference_function\u001b[0m\u001b[1;33m.\u001b[0m\u001b[0mflat_call\u001b[0m\u001b[1;33m(\u001b[0m\u001b[0margs\u001b[0m\u001b[1;33m)\u001b[0m\u001b[1;33m\u001b[0m\u001b[1;33m\u001b[0m\u001b[0m\n\u001b[0m\u001b[0;32m   1265\u001b[0m     forward_backward = self._select_forward_and_backward_functions(\n\u001b[0;32m   1266\u001b[0m         \u001b[0margs\u001b[0m\u001b[1;33m,\u001b[0m\u001b[1;33m\u001b[0m\u001b[1;33m\u001b[0m\u001b[0m\n",
      "\u001b[1;32mC:\\ProgramData\\Anaconda3\\lib\\site-packages\\tensorflow\\python\\eager\\polymorphic_function\\atomic_function.py\u001b[0m in \u001b[0;36mflat_call\u001b[1;34m(self, args)\u001b[0m\n\u001b[0;32m    215\u001b[0m   \u001b[1;32mdef\u001b[0m \u001b[0mflat_call\u001b[0m\u001b[1;33m(\u001b[0m\u001b[0mself\u001b[0m\u001b[1;33m,\u001b[0m \u001b[0margs\u001b[0m\u001b[1;33m:\u001b[0m \u001b[0mSequence\u001b[0m\u001b[1;33m[\u001b[0m\u001b[0mcore\u001b[0m\u001b[1;33m.\u001b[0m\u001b[0mTensor\u001b[0m\u001b[1;33m]\u001b[0m\u001b[1;33m)\u001b[0m \u001b[1;33m->\u001b[0m \u001b[0mAny\u001b[0m\u001b[1;33m:\u001b[0m\u001b[1;33m\u001b[0m\u001b[1;33m\u001b[0m\u001b[0m\n\u001b[0;32m    216\u001b[0m     \u001b[1;34m\"\"\"Calls with tensor inputs and returns the structured output.\"\"\"\u001b[0m\u001b[1;33m\u001b[0m\u001b[1;33m\u001b[0m\u001b[0m\n\u001b[1;32m--> 217\u001b[1;33m     \u001b[0mflat_outputs\u001b[0m \u001b[1;33m=\u001b[0m \u001b[0mself\u001b[0m\u001b[1;33m(\u001b[0m\u001b[1;33m*\u001b[0m\u001b[0margs\u001b[0m\u001b[1;33m)\u001b[0m\u001b[1;33m\u001b[0m\u001b[1;33m\u001b[0m\u001b[0m\n\u001b[0m\u001b[0;32m    218\u001b[0m     \u001b[1;32mreturn\u001b[0m \u001b[0mself\u001b[0m\u001b[1;33m.\u001b[0m\u001b[0mfunction_type\u001b[0m\u001b[1;33m.\u001b[0m\u001b[0mpack_output\u001b[0m\u001b[1;33m(\u001b[0m\u001b[0mflat_outputs\u001b[0m\u001b[1;33m)\u001b[0m\u001b[1;33m\u001b[0m\u001b[1;33m\u001b[0m\u001b[0m\n\u001b[0;32m    219\u001b[0m \u001b[1;33m\u001b[0m\u001b[0m\n",
      "\u001b[1;32mC:\\ProgramData\\Anaconda3\\lib\\site-packages\\tensorflow\\python\\eager\\polymorphic_function\\atomic_function.py\u001b[0m in \u001b[0;36m__call__\u001b[1;34m(self, *args)\u001b[0m\n\u001b[0;32m    250\u001b[0m         \u001b[1;32mwith\u001b[0m \u001b[0mrecord\u001b[0m\u001b[1;33m.\u001b[0m\u001b[0mstop_recording\u001b[0m\u001b[1;33m(\u001b[0m\u001b[1;33m)\u001b[0m\u001b[1;33m:\u001b[0m\u001b[1;33m\u001b[0m\u001b[1;33m\u001b[0m\u001b[0m\n\u001b[0;32m    251\u001b[0m           \u001b[1;32mif\u001b[0m \u001b[0mself\u001b[0m\u001b[1;33m.\u001b[0m\u001b[0m_bound_context\u001b[0m\u001b[1;33m.\u001b[0m\u001b[0mexecuting_eagerly\u001b[0m\u001b[1;33m(\u001b[0m\u001b[1;33m)\u001b[0m\u001b[1;33m:\u001b[0m\u001b[1;33m\u001b[0m\u001b[1;33m\u001b[0m\u001b[0m\n\u001b[1;32m--> 252\u001b[1;33m             outputs = self._bound_context.call_function(\n\u001b[0m\u001b[0;32m    253\u001b[0m                 \u001b[0mself\u001b[0m\u001b[1;33m.\u001b[0m\u001b[0mname\u001b[0m\u001b[1;33m,\u001b[0m\u001b[1;33m\u001b[0m\u001b[1;33m\u001b[0m\u001b[0m\n\u001b[0;32m    254\u001b[0m                 \u001b[0mlist\u001b[0m\u001b[1;33m(\u001b[0m\u001b[0margs\u001b[0m\u001b[1;33m)\u001b[0m\u001b[1;33m,\u001b[0m\u001b[1;33m\u001b[0m\u001b[1;33m\u001b[0m\u001b[0m\n",
      "\u001b[1;32mC:\\ProgramData\\Anaconda3\\lib\\site-packages\\tensorflow\\python\\eager\\context.py\u001b[0m in \u001b[0;36mcall_function\u001b[1;34m(self, name, tensor_inputs, num_outputs)\u001b[0m\n\u001b[0;32m   1477\u001b[0m     \u001b[0mcancellation_context\u001b[0m \u001b[1;33m=\u001b[0m \u001b[0mcancellation\u001b[0m\u001b[1;33m.\u001b[0m\u001b[0mcontext\u001b[0m\u001b[1;33m(\u001b[0m\u001b[1;33m)\u001b[0m\u001b[1;33m\u001b[0m\u001b[1;33m\u001b[0m\u001b[0m\n\u001b[0;32m   1478\u001b[0m     \u001b[1;32mif\u001b[0m \u001b[0mcancellation_context\u001b[0m \u001b[1;32mis\u001b[0m \u001b[1;32mNone\u001b[0m\u001b[1;33m:\u001b[0m\u001b[1;33m\u001b[0m\u001b[1;33m\u001b[0m\u001b[0m\n\u001b[1;32m-> 1479\u001b[1;33m       outputs = execute.execute(\n\u001b[0m\u001b[0;32m   1480\u001b[0m           \u001b[0mname\u001b[0m\u001b[1;33m.\u001b[0m\u001b[0mdecode\u001b[0m\u001b[1;33m(\u001b[0m\u001b[1;34m\"utf-8\"\u001b[0m\u001b[1;33m)\u001b[0m\u001b[1;33m,\u001b[0m\u001b[1;33m\u001b[0m\u001b[1;33m\u001b[0m\u001b[0m\n\u001b[0;32m   1481\u001b[0m           \u001b[0mnum_outputs\u001b[0m\u001b[1;33m=\u001b[0m\u001b[0mnum_outputs\u001b[0m\u001b[1;33m,\u001b[0m\u001b[1;33m\u001b[0m\u001b[1;33m\u001b[0m\u001b[0m\n",
      "\u001b[1;32mC:\\ProgramData\\Anaconda3\\lib\\site-packages\\tensorflow\\python\\eager\\execute.py\u001b[0m in \u001b[0;36mquick_execute\u001b[1;34m(op_name, num_outputs, inputs, attrs, ctx, name)\u001b[0m\n\u001b[0;32m     58\u001b[0m         \u001b[1;32mfor\u001b[0m \u001b[0mt\u001b[0m \u001b[1;32min\u001b[0m \u001b[0minputs\u001b[0m\u001b[1;33m\u001b[0m\u001b[1;33m\u001b[0m\u001b[0m\n\u001b[0;32m     59\u001b[0m     ]\n\u001b[1;32m---> 60\u001b[1;33m     tensors = pywrap_tfe.TFE_Py_Execute(ctx._handle, device_name, op_name,\n\u001b[0m\u001b[0;32m     61\u001b[0m                                         inputs, attrs, num_outputs)\n\u001b[0;32m     62\u001b[0m   \u001b[1;32mexcept\u001b[0m \u001b[0mcore\u001b[0m\u001b[1;33m.\u001b[0m\u001b[0m_NotOkStatusException\u001b[0m \u001b[1;32mas\u001b[0m \u001b[0me\u001b[0m\u001b[1;33m:\u001b[0m\u001b[1;33m\u001b[0m\u001b[1;33m\u001b[0m\u001b[0m\n",
      "\u001b[1;31mKeyboardInterrupt\u001b[0m: "
     ]
    }
   ],
   "source": [
    "model.fit(x=X_train,y=y_train.values,\n",
    "          validation_data=(X_test,y_test.values),\n",
    "          batch_size=164,epochs=400)"
   ]
  },
  {
   "cell_type": "code",
   "execution_count": 43,
   "id": "351a6031",
   "metadata": {},
   "outputs": [],
   "source": [
    "losses = pd.DataFrame(model.history.history)"
   ]
  },
  {
   "cell_type": "code",
   "execution_count": 44,
   "id": "af03b9bc",
   "metadata": {},
   "outputs": [
    {
     "data": {
      "text/plain": [
       "<AxesSubplot:>"
      ]
     },
     "execution_count": 44,
     "metadata": {},
     "output_type": "execute_result"
    },
    {
     "data": {
      "image/png": "[encoded data removed]",
      "text/plain": [
       "<Figure size 640x480 with 1 Axes>"
      ]
     },
     "metadata": {},
     "output_type": "display_data"
    }
   ],
   "source": [
    "losses.plot()"
   ]
  },
  {
   "cell_type": "code",
   "execution_count": 45,
   "id": "1f5dee22",
   "metadata": {},
   "outputs": [],
   "source": [
    "from sklearn.metrics import mean_squared_error,mean_absolute_error,explained_variance_score"
   ]
  },
  {
   "cell_type": "markdown",
   "id": "e1edef96",
   "metadata": {},
   "source": [
    "#### Predicting on Brand New Data"
   ]
  },
  {
   "cell_type": "code",
   "execution_count": 46,
   "id": "87402e02",
   "metadata": {},
   "outputs": [
    {
     "data": {
      "text/plain": [
       "array([[0.62264151, 0.        , 0.81031539, ..., 0.        , 0.        ,\n",
       "        0.        ],\n",
       "       [0.05660377, 0.        , 0.18334715, ..., 0.        , 0.        ,\n",
       "        0.        ],\n",
       "       [0.20754717, 0.01349528, 0.30960559, ..., 0.        , 0.        ,\n",
       "        0.        ],\n",
       "       ...,\n",
       "       [0.79245283, 0.        , 0.74262703, ..., 0.        , 0.        ,\n",
       "        1.        ],\n",
       "       [0.96226415, 0.        , 0.83205022, ..., 0.        , 0.        ,\n",
       "        0.        ],\n",
       "       [0.75471698, 0.        , 0.76134076, ..., 0.        , 0.        ,\n",
       "        0.        ]])"
      ]
     },
     "execution_count": 46,
     "metadata": {},
     "output_type": "execute_result"
    }
   ],
   "source": [
    "X_test"
   ]
  },
  {
   "cell_type": "code",
   "execution_count": 47,
   "id": "4f77a54d",
   "metadata": {},
   "outputs": [
    {
     "name": "stdout",
     "output_type": "stream",
     "text": [
      "28635/28635 [==============================] - 39s 1ms/step\n"
     ]
    }
   ],
   "source": [
    "predictions = model.predict(X_test)"
   ]
  },
  {
   "cell_type": "code",
   "execution_count": 48,
   "id": "a3e8299a",
   "metadata": {},
   "outputs": [
    {
     "data": {
      "text/plain": [
       "78.6147081980493"
      ]
     },
     "execution_count": 48,
     "metadata": {},
     "output_type": "execute_result"
    }
   ],
   "source": [
    "mean_absolute_error(y_test,predictions)"
   ]
  },
  {
   "cell_type": "code",
   "execution_count": 49,
   "id": "22e210ed",
   "metadata": {},
   "outputs": [
    {
     "data": {
      "text/plain": [
       "297.4615717575699"
      ]
     },
     "execution_count": 49,
     "metadata": {},
     "output_type": "execute_result"
    }
   ],
   "source": [
    "np.sqrt(mean_squared_error(y_test,predictions))"
   ]
  },
  {
   "cell_type": "code",
   "execution_count": 50,
   "id": "067d6a34",
   "metadata": {},
   "outputs": [
    {
     "data": {
      "text/plain": [
       "0.9267578540663161"
      ]
     },
     "execution_count": 50,
     "metadata": {},
     "output_type": "execute_result"
    }
   ],
   "source": [
    "explained_variance_score(y_test,predictions)"
   ]
  },
  {
   "cell_type": "code",
   "execution_count": 24,
   "id": "e3c9caaf",
   "metadata": {},
   "outputs": [
    {
     "data": {
      "text/plain": [
       "359.0208922513996"
      ]
     },
     "execution_count": 24,
     "metadata": {},
     "output_type": "execute_result"
    }
   ],
   "source": [
    "df['sales'].mean()"
   ]
  },
  {
   "cell_type": "code",
   "execution_count": 51,
   "id": "fd617462",
   "metadata": {},
   "outputs": [
    {
     "data": {
      "text/plain": [
       "11.0"
      ]
     },
     "execution_count": 51,
     "metadata": {},
     "output_type": "execute_result"
    }
   ],
   "source": [
    "df['sales'].median()"
   ]
  },
  {
   "cell_type": "code",
   "execution_count": 52,
   "id": "54bfde60",
   "metadata": {},
   "outputs": [],
   "source": [
    "errors = y_test.values.reshape(916305 , 1) - predictions"
   ]
  },
  {
   "cell_type": "code",
   "execution_count": 53,
   "id": "e409dee7",
   "metadata": {},
   "outputs": [],
   "source": [
    "import seaborn as sns"
   ]
  },
  {
   "cell_type": "code",
   "execution_count": 54,
   "id": "745b821e",
   "metadata": {},
   "outputs": [
    {
     "name": "stderr",
     "output_type": "stream",
     "text": [
      "C:\\ProgramData\\Anaconda3\\lib\\site-packages\\seaborn\\distributions.py:2619: FutureWarning: `distplot` is a deprecated function and will be removed in a future version. Please adapt your code to use either `displot` (a figure-level function with similar flexibility) or `histplot` (an axes-level function for histograms).\n",
      "  warnings.warn(msg, FutureWarning)\n"
     ]
    },
    {
     "data": {
      "text/plain": [
       "<AxesSubplot:ylabel='Density'>"
      ]
     },
     "execution_count": 54,
     "metadata": {},
     "output_type": "execute_result"
    },
    {
     "data": {
      "image/png": "[encoded data removed]",
      "text/plain": [
       "<Figure size 640x480 with 1 Axes>"
      ]
     },
     "metadata": {},
     "output_type": "display_data"
    }
   ],
   "source": [
    "sns.distplot(errors)"
   ]
  },
  {
   "cell_type": "markdown",
   "id": "0d1bed42",
   "metadata": {},
   "source": [
    "# Predicting unknown data"
   ]
  },
  {
   "cell_type": "code",
   "execution_count": 55,
   "id": "9ba60c86",
   "metadata": {},
   "outputs": [],
   "source": [
    "finall = pd.read_csv('test_1.csv')"
   ]
  },
  {
   "cell_type": "code",
   "execution_count": 56,
   "id": "decebbb2",
   "metadata": {},
   "outputs": [],
   "source": [
    "finall_id = finall['id'].values"
   ]
  },
  {
   "cell_type": "code",
   "execution_count": 57,
   "id": "9dbf8dc8",
   "metadata": {},
   "outputs": [],
   "source": [
    "finall.drop('id',axis=1,inplace=True)"
   ]
  },
  {
   "cell_type": "code",
   "execution_count": 58,
   "id": "65227791",
   "metadata": {},
   "outputs": [],
   "source": [
    "Xb = finall.drop('sales',axis=1)\n",
    "yb = finall['sales']"
   ]
  },
  {
   "cell_type": "code",
   "execution_count": 59,
   "id": "0bc3dfd1",
   "metadata": {},
   "outputs": [],
   "source": [
    "Xb1 = scaler.transform(Xb)"
   ]
  },
  {
   "cell_type": "code",
   "execution_count": 60,
   "id": "03861770",
   "metadata": {},
   "outputs": [
    {
     "name": "stdout",
     "output_type": "stream",
     "text": [
      "891/891 [==============================] - 1s 1ms/step\n"
     ]
    }
   ],
   "source": [
    "predictions2 = model.predict(Xb1)"
   ]
  },
  {
   "cell_type": "code",
   "execution_count": 61,
   "id": "7d61887d",
   "metadata": {},
   "outputs": [
    {
     "data": {
      "text/plain": [
       "28512"
      ]
     },
     "execution_count": 61,
     "metadata": {},
     "output_type": "execute_result"
    }
   ],
   "source": [
    "len(finall_id)"
   ]
  },
  {
   "cell_type": "code",
   "execution_count": 62,
   "id": "ced88271",
   "metadata": {},
   "outputs": [
    {
     "data": {
      "text/plain": [
       "28512"
      ]
     },
     "execution_count": 62,
     "metadata": {},
     "output_type": "execute_result"
    }
   ],
   "source": [
    "len(predictions2)"
   ]
  },
  {
   "cell_type": "code",
   "execution_count": 63,
   "id": "67a73848",
   "metadata": {},
   "outputs": [],
   "source": [
    "num_rows = 28512\n",
    "data = {'x': list(range(num_rows))}  # Generating values for 'x' column (0 to 28511)\n",
    "df5 = pd.DataFrame(data)"
   ]
  },
  {
   "cell_type": "code",
   "execution_count": 64,
   "id": "2f8811b1",
   "metadata": {},
   "outputs": [],
   "source": [
    "df5['id'] = finall_id"
   ]
  },
  {
   "cell_type": "code",
   "execution_count": 65,
   "id": "be51a991",
   "metadata": {},
   "outputs": [],
   "source": [
    "df5['sales'] = predictions2"
   ]
  },
  {
   "cell_type": "code",
   "execution_count": 66,
   "id": "c83794d1",
   "metadata": {},
   "outputs": [],
   "source": [
    "df5.drop('x',axis=1,inplace=True)"
   ]
  },
  {
   "cell_type": "code",
   "execution_count": 67,
   "id": "b0a8babf",
   "metadata": {},
   "outputs": [],
   "source": [
    "df5.to_csv(\"final_predictions.csv\",index=False)"
   ]
  }
 ],
 "metadata": {
  "kernelspec": {
   "display_name": "Python 3 (ipykernel)",
   "language": "python",
   "name": "python3"
  },
  "language_info": {
   "codemirror_mode": {
    "name": "ipython",
    "version": 3
   },
   "file_extension": ".py",
   "mimetype": "text/x-python",
   "name": "python",
   "nbconvert_exporter": "python",
   "pygments_lexer": "ipython3",
   "version": "3.9.13"
  }
 },
 "nbformat": 4,
 "nbformat_minor": 5
}
